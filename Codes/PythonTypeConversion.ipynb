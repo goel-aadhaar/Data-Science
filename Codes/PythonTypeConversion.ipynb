{
 "cells": [
  {
   "cell_type": "code",
   "execution_count": 2,
   "id": "c390d130-e6da-4300-a992-9cc1f0c6f9d3",
   "metadata": {},
   "outputs": [
    {
     "name": "stdin",
     "output_type": "stream",
     "text": [
      "enter a number 4\n"
     ]
    },
    {
     "name": "stdout",
     "output_type": "stream",
     "text": [
      "4\n"
     ]
    }
   ],
   "source": [
    "#1_Convert a integer to a floating-point number.\n",
    "x=int(input(\"enter a number\"))\n",
    "y=float(x)\n",
    "print(y)"
   ]
  },
  {
   "cell_type": "code",
   "execution_count": 6,
   "id": "ca921630-6acf-4af3-9c74-2efc1b5b5abc",
   "metadata": {},
   "outputs": [
    {
     "name": "stdin",
     "output_type": "stream",
     "text": [
      "enter a number 4.45\n"
     ]
    },
    {
     "name": "stdout",
     "output_type": "stream",
     "text": [
      "4.45\n"
     ]
    }
   ],
   "source": [
    "#2_Convert a float to a integer.\n",
    "x=float(input(\"enter a number\"))\n",
    "y=int(x)\n",
    "print(y)"
   ]
  },
  {
   "cell_type": "code",
   "execution_count": 10,
   "id": "b9124784-6b6f-4343-b8c3-4b01d9251585",
   "metadata": {},
   "outputs": [
    {
     "name": "stdin",
     "output_type": "stream",
     "text": [
      "enter a number 5\n"
     ]
    },
    {
     "name": "stdout",
     "output_type": "stream",
     "text": [
      "5 <class 'str'>\n"
     ]
    }
   ],
   "source": [
    "#3 Convert a integer to a %string.\n",
    "x=int(input(\"enter a number\"))\n",
    "y=str(x)\n",
    "print(y,type(y))"
   ]
  },
  {
   "cell_type": "code",
   "execution_count": 16,
   "id": "c4d109ab-3c5e-4659-be66-84838efd5dbf",
   "metadata": {},
   "outputs": [
    {
     "name": "stdin",
     "output_type": "stream",
     "text": [
      "enter number of elements 3\n",
      " 1\n",
      " 2\n",
      " 3\n"
     ]
    },
    {
     "name": "stdout",
     "output_type": "stream",
     "text": [
      "[1, 2, 3]\n",
      "(1, 2, 3)\n"
     ]
    }
   ],
   "source": [
    "#4_Covert a list to a tuple.\n",
    "l=[]\n",
    "n=int(input(\"enter number of elements\"))\n",
    "for i in range(0,n):\n",
    "    x=int(input())\n",
    "    l.append(x)\n",
    "\n",
    "tup=tuple(l)\n",
    "print(tup)"
   ]
  },
  {
   "cell_type": "code",
   "execution_count": 19,
   "id": "db512335-d5d1-4eec-9fa2-682845434766",
   "metadata": {},
   "outputs": [
    {
     "name": "stdout",
     "output_type": "stream",
     "text": [
      "[1, 2, 3]\n"
     ]
    }
   ],
   "source": [
    "#5_Covert a tuple to a li%t.\n",
    "tup=(1,2,3)\n",
    "\n",
    "l=list(tup)\n",
    "print(l)"
   ]
  },
  {
   "cell_type": "code",
   "execution_count": 28,
   "id": "63e79605-47e6-45a0-aa85-9fac0c9408ce",
   "metadata": {},
   "outputs": [
    {
     "name": "stdin",
     "output_type": "stream",
     "text": [
      "enter a number 100\n"
     ]
    },
    {
     "name": "stdout",
     "output_type": "stream",
     "text": [
      "1100100\n"
     ]
    }
   ],
   "source": [
    "#6_Covert a decimal number to biary.\n",
    "x=int(input(\"enter a number\"))\n",
    "y=x\n",
    "ans=0\n",
    "count=0\n",
    "while y:\n",
    "    ans=ans+(y%2)*10**count\n",
    "    y=y//2\n",
    "    count+=1\n",
    "print(ans)  "
   ]
  },
  {
   "cell_type": "code",
   "execution_count": 29,
   "id": "f26fae42-eb8b-4c7d-93bc-2f866f7d0b4f",
   "metadata": {},
   "outputs": [
    {
     "name": "stdin",
     "output_type": "stream",
     "text": [
      "enter a number 5\n"
     ]
    },
    {
     "name": "stdout",
     "output_type": "stream",
     "text": [
      "True\n"
     ]
    }
   ],
   "source": [
    "#7_Covert a non-zero number to boolean.\n",
    "x=int(input(\"enter a number\"))\n",
    "y=bool(x)\n",
    "print(y)"
   ]
  },
  {
   "cell_type": "code",
   "execution_count": null,
   "id": "1ff61baf-6510-421b-93b5-8526510fc5df",
   "metadata": {},
   "outputs": [],
   "source": []
  }
 ],
 "metadata": {
  "kernelspec": {
   "display_name": "Python 3 (ipykernel)",
   "language": "python",
   "name": "python3"
  },
  "language_info": {
   "codemirror_mode": {
    "name": "ipython",
    "version": 3
   },
   "file_extension": ".py",
   "mimetype": "text/x-python",
   "name": "python",
   "nbconvert_exporter": "python",
   "pygments_lexer": "ipython3",
   "version": "3.10.8"
  }
 },
 "nbformat": 4,
 "nbformat_minor": 5
}
